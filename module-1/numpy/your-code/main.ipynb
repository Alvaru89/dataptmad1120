{
 "cells": [
  {
   "cell_type": "markdown",
   "metadata": {},
   "source": [
    "# Introduction to NumPy\n",
    "\n",
    "\n",
    "#### 1. Import NumPy under the name np."
   ]
  },
  {
   "cell_type": "code",
   "execution_count": 1,
   "metadata": {},
   "outputs": [],
   "source": [
    "import numpy as np"
   ]
  },
  {
   "cell_type": "markdown",
   "metadata": {},
   "source": [
    "#### 2. Print your NumPy version."
   ]
  },
  {
   "cell_type": "code",
   "execution_count": 3,
   "metadata": {},
   "outputs": [
    {
     "data": {
      "text/plain": [
       "'1.19.2'"
      ]
     },
     "execution_count": 3,
     "metadata": {},
     "output_type": "execute_result"
    }
   ],
   "source": [
    "np.version.version"
   ]
  },
  {
   "cell_type": "markdown",
   "metadata": {},
   "source": [
    "#### 3. Generate a 2x3x5 3-dimensional array with random values. Assign the array to variable *a*.\n",
    "**Challenge**: there are at least three easy ways that use numpy to generate random arrays. How many ways can you find?"
   ]
  },
  {
   "cell_type": "code",
   "execution_count": 6,
   "metadata": {},
   "outputs": [
    {
     "name": "stdout",
     "output_type": "stream",
     "text": [
      "[[[0.50546617 0.82448192 0.079835   0.92028437 0.75749082]\n",
      "  [0.35262333 0.39290802 0.37632094 0.35741533 0.17519753]\n",
      "  [0.90767843 0.04584796 0.78271832 0.79084459 0.07820182]]\n",
      "\n",
      " [[0.1120587  0.63338382 0.39812766 0.04035482 0.34055997]\n",
      "  [0.13576584 0.86692553 0.7992684  0.29235929 0.81526705]\n",
      "  [0.90200158 0.08677466 0.41235647 0.54386616 0.8567601 ]]]\n"
     ]
    }
   ],
   "source": [
    "a=np.random.random((2,3,5))\n",
    "print(a)"
   ]
  },
  {
   "cell_type": "code",
   "execution_count": 8,
   "metadata": {},
   "outputs": [
    {
     "name": "stdout",
     "output_type": "stream",
     "text": [
      "[[[0.2352386  0.56208745 0.48111235 0.22750634 0.88809554]\n",
      "  [0.67695507 0.571939   0.56756535 0.1236226  0.4888163 ]\n",
      "  [0.09301389 0.79552676 0.52861834 0.93961623 0.33604229]]\n",
      "\n",
      " [[0.05036912 0.83343913 0.09176792 0.70745534 0.5903119 ]\n",
      "  [0.46491074 0.1273866  0.43998115 0.26072251 0.09979239]\n",
      "  [0.34054841 0.96900413 0.15925425 0.55826178 0.70189106]]]\n"
     ]
    }
   ],
   "source": [
    "a=np.random.rand(2,3,5)\n",
    "print(a)"
   ]
  },
  {
   "cell_type": "code",
   "execution_count": 9,
   "metadata": {},
   "outputs": [
    {
     "name": "stdout",
     "output_type": "stream",
     "text": [
      "[[[ 1.49934573 -0.97848882 -0.36843985 -0.00506256 -0.15846722]\n",
      "  [-0.14703752 -0.91641834 -0.30964566  0.9280703   0.17013815]\n",
      "  [ 0.38762259 -0.61504747 -1.12509863 -0.20903448 -0.74155497]]\n",
      "\n",
      " [[-0.29762806 -1.30918764 -0.90317916  1.54608769  1.96522227]\n",
      "  [-0.32942311 -0.95304164  1.32388933  0.95040654 -0.28880745]\n",
      "  [ 0.12429265  0.57617739  1.3846493  -1.88689167 -1.31135353]]]\n"
     ]
    }
   ],
   "source": [
    "a=np.random.randn(2,3,5)\n",
    "print(a)"
   ]
  },
  {
   "cell_type": "markdown",
   "metadata": {},
   "source": [
    "#### 4. Print *a*.\n"
   ]
  },
  {
   "cell_type": "code",
   "execution_count": 10,
   "metadata": {},
   "outputs": [
    {
     "name": "stdout",
     "output_type": "stream",
     "text": [
      "[[[ 1.49934573 -0.97848882 -0.36843985 -0.00506256 -0.15846722]\n",
      "  [-0.14703752 -0.91641834 -0.30964566  0.9280703   0.17013815]\n",
      "  [ 0.38762259 -0.61504747 -1.12509863 -0.20903448 -0.74155497]]\n",
      "\n",
      " [[-0.29762806 -1.30918764 -0.90317916  1.54608769  1.96522227]\n",
      "  [-0.32942311 -0.95304164  1.32388933  0.95040654 -0.28880745]\n",
      "  [ 0.12429265  0.57617739  1.3846493  -1.88689167 -1.31135353]]]\n"
     ]
    }
   ],
   "source": [
    "print(a)"
   ]
  },
  {
   "cell_type": "markdown",
   "metadata": {},
   "source": [
    "#### 5. Create a 5x2x3 3-dimensional array with all values equaling 1. Assign the array to variable *b*."
   ]
  },
  {
   "cell_type": "code",
   "execution_count": 24,
   "metadata": {},
   "outputs": [],
   "source": [
    "b=np.ones((5,2,3))"
   ]
  },
  {
   "cell_type": "markdown",
   "metadata": {},
   "source": [
    "#### 6. Print *b*.\n"
   ]
  },
  {
   "cell_type": "code",
   "execution_count": 25,
   "metadata": {},
   "outputs": [
    {
     "name": "stdout",
     "output_type": "stream",
     "text": [
      "[[[1. 1. 1.]\n",
      "  [1. 1. 1.]]\n",
      "\n",
      " [[1. 1. 1.]\n",
      "  [1. 1. 1.]]\n",
      "\n",
      " [[1. 1. 1.]\n",
      "  [1. 1. 1.]]\n",
      "\n",
      " [[1. 1. 1.]\n",
      "  [1. 1. 1.]]\n",
      "\n",
      " [[1. 1. 1.]\n",
      "  [1. 1. 1.]]]\n"
     ]
    }
   ],
   "source": [
    "print(b)"
   ]
  },
  {
   "cell_type": "markdown",
   "metadata": {},
   "source": [
    "#### 7. Do *a* and *b* have the same size? How do you prove that in Python code?"
   ]
  },
  {
   "cell_type": "code",
   "execution_count": 14,
   "metadata": {},
   "outputs": [
    {
     "data": {
      "text/plain": [
       "True"
      ]
     },
     "execution_count": 14,
     "metadata": {},
     "output_type": "execute_result"
    }
   ],
   "source": [
    "a.size==b.size"
   ]
  },
  {
   "cell_type": "markdown",
   "metadata": {},
   "source": [
    "#### 8. Are you able to add *a* and *b*? Why or why not?\n"
   ]
  },
  {
   "cell_type": "code",
   "execution_count": 15,
   "metadata": {},
   "outputs": [
    {
     "ename": "ValueError",
     "evalue": "operands could not be broadcast together with shapes (2,3,5) (5,2,3) ",
     "output_type": "error",
     "traceback": [
      "\u001b[0;31m---------------------------------------------------------------------------\u001b[0m",
      "\u001b[0;31mValueError\u001b[0m                                Traceback (most recent call last)",
      "\u001b[0;32m<ipython-input-15-ca730b97bf8a>\u001b[0m in \u001b[0;36m<module>\u001b[0;34m\u001b[0m\n\u001b[0;32m----> 1\u001b[0;31m \u001b[0ma\u001b[0m\u001b[0;34m+\u001b[0m\u001b[0mb\u001b[0m\u001b[0;34m\u001b[0m\u001b[0;34m\u001b[0m\u001b[0m\n\u001b[0m",
      "\u001b[0;31mValueError\u001b[0m: operands could not be broadcast together with shapes (2,3,5) (5,2,3) "
     ]
    }
   ],
   "source": [
    "a+b\n",
    "#No, because they need to be the same shape"
   ]
  },
  {
   "cell_type": "markdown",
   "metadata": {},
   "source": [
    "#### 9. Transpose *b* so that it has the same structure of *a* (i.e. become a 2x3x5 array). Assign the transposed array to variable *c*."
   ]
  },
  {
   "cell_type": "code",
   "execution_count": 29,
   "metadata": {},
   "outputs": [
    {
     "name": "stdout",
     "output_type": "stream",
     "text": [
      "[[[1. 1. 1. 1. 1.]\n",
      "  [1. 1. 1. 1. 1.]\n",
      "  [1. 1. 1. 1. 1.]]\n",
      "\n",
      " [[1. 1. 1. 1. 1.]\n",
      "  [1. 1. 1. 1. 1.]\n",
      "  [1. 1. 1. 1. 1.]]]\n",
      "(2, 3, 5)\n"
     ]
    }
   ],
   "source": [
    "    \n",
    "c=b.transpose(1,2,0)\n",
    "print(c)\n",
    "print(c.shape)"
   ]
  },
  {
   "cell_type": "markdown",
   "metadata": {},
   "source": [
    "#### 10. Try to add *a* and *c*. Now it should work. Assign the sum to variable *d*. But why does it work now?"
   ]
  },
  {
   "cell_type": "code",
   "execution_count": 31,
   "metadata": {},
   "outputs": [
    {
     "name": "stdout",
     "output_type": "stream",
     "text": [
      "[[[ 2.49934573  0.02151118  0.63156015  0.99493744  0.84153278]\n",
      "  [ 0.85296248  0.08358166  0.69035434  1.9280703   1.17013815]\n",
      "  [ 1.38762259  0.38495253 -0.12509863  0.79096552  0.25844503]]\n",
      "\n",
      " [[ 0.70237194 -0.30918764  0.09682084  2.54608769  2.96522227]\n",
      "  [ 0.67057689  0.04695836  2.32388933  1.95040654  0.71119255]\n",
      "  [ 1.12429265  1.57617739  2.3846493  -0.88689167 -0.31135353]]]\n"
     ]
    }
   ],
   "source": [
    "d=a+c\n",
    "print(d)"
   ]
  },
  {
   "cell_type": "markdown",
   "metadata": {},
   "source": [
    "#### 11. Print *a* and *d*. Notice the difference and relation of the two array in terms of the values? Explain."
   ]
  },
  {
   "cell_type": "code",
   "execution_count": 32,
   "metadata": {},
   "outputs": [
    {
     "name": "stdout",
     "output_type": "stream",
     "text": [
      "[[[ 1.49934573 -0.97848882 -0.36843985 -0.00506256 -0.15846722]\n",
      "  [-0.14703752 -0.91641834 -0.30964566  0.9280703   0.17013815]\n",
      "  [ 0.38762259 -0.61504747 -1.12509863 -0.20903448 -0.74155497]]\n",
      "\n",
      " [[-0.29762806 -1.30918764 -0.90317916  1.54608769  1.96522227]\n",
      "  [-0.32942311 -0.95304164  1.32388933  0.95040654 -0.28880745]\n",
      "  [ 0.12429265  0.57617739  1.3846493  -1.88689167 -1.31135353]]]\n",
      "[[[ 2.49934573  0.02151118  0.63156015  0.99493744  0.84153278]\n",
      "  [ 0.85296248  0.08358166  0.69035434  1.9280703   1.17013815]\n",
      "  [ 1.38762259  0.38495253 -0.12509863  0.79096552  0.25844503]]\n",
      "\n",
      " [[ 0.70237194 -0.30918764  0.09682084  2.54608769  2.96522227]\n",
      "  [ 0.67057689  0.04695836  2.32388933  1.95040654  0.71119255]\n",
      "  [ 1.12429265  1.57617739  2.3846493  -0.88689167 -0.31135353]]]\n"
     ]
    }
   ],
   "source": [
    "print(a)\n",
    "print(d)\n",
    "#d= each element of a +1"
   ]
  },
  {
   "cell_type": "markdown",
   "metadata": {},
   "source": [
    "#### 12. Multiply *a* and *c*. Assign the result to *e*."
   ]
  },
  {
   "cell_type": "code",
   "execution_count": 34,
   "metadata": {},
   "outputs": [],
   "source": [
    "e=a*c"
   ]
  },
  {
   "cell_type": "markdown",
   "metadata": {},
   "source": [
    "#### 13. Does *e* equal to *a*? Why or why not?\n"
   ]
  },
  {
   "cell_type": "code",
   "execution_count": 35,
   "metadata": {},
   "outputs": [
    {
     "data": {
      "text/plain": [
       "array([[[ True,  True,  True,  True,  True],\n",
       "        [ True,  True,  True,  True,  True],\n",
       "        [ True,  True,  True,  True,  True]],\n",
       "\n",
       "       [[ True,  True,  True,  True,  True],\n",
       "        [ True,  True,  True,  True,  True],\n",
       "        [ True,  True,  True,  True,  True]]])"
      ]
     },
     "execution_count": 35,
     "metadata": {},
     "output_type": "execute_result"
    }
   ],
   "source": [
    "e==a\n",
    "#Yes, all elements are the same, because each element is multiplied by 1"
   ]
  },
  {
   "cell_type": "markdown",
   "metadata": {},
   "source": [
    "#### 14. Identify the max, min, and mean values in *d*. Assign those values to variables *d_max*, *d_min* and *d_mean*."
   ]
  },
  {
   "cell_type": "code",
   "execution_count": 36,
   "metadata": {},
   "outputs": [
    {
     "name": "stdout",
     "output_type": "stream",
     "text": [
      "2.965222272809068\n",
      "-0.886891668653186\n",
      "0.9334031377449225\n"
     ]
    }
   ],
   "source": [
    "d_max=np.max(d)\n",
    "print(d_max)\n",
    "d_min=np.min(d)\n",
    "print(d_min)\n",
    "d_mean=np.mean(d)\n",
    "print(d_mean)\n"
   ]
  },
  {
   "cell_type": "markdown",
   "metadata": {},
   "source": [
    "#### 15. Now we want to label the values in *d*. First create an empty array *f* with the same shape (i.e. 2x3x5) as *d* using `np.empty`.\n"
   ]
  },
  {
   "cell_type": "code",
   "execution_count": 38,
   "metadata": {},
   "outputs": [
    {
     "name": "stdout",
     "output_type": "stream",
     "text": [
      "[[[ 2.49934573  0.02151118  0.63156015  0.99493744  0.84153278]\n",
      "  [ 0.85296248  0.08358166  0.69035434  1.9280703   1.17013815]\n",
      "  [ 1.38762259  0.38495253 -0.12509863  0.79096552  0.25844503]]\n",
      "\n",
      " [[ 0.70237194 -0.30918764  0.09682084  2.54608769  2.96522227]\n",
      "  [ 0.67057689  0.04695836  2.32388933  1.95040654  0.71119255]\n",
      "  [ 1.12429265  1.57617739  2.3846493  -0.88689167 -0.31135353]]]\n"
     ]
    }
   ],
   "source": [
    "f=np.empty((2,3,5))\n",
    "print(f)"
   ]
  },
  {
   "cell_type": "markdown",
   "metadata": {},
   "source": [
    "#### 16. Populate the values in *f*. \n",
    "\n",
    "For each value in *d*, if it's larger than *d_min* but smaller than *d_mean*, assign 25 to the corresponding value in *f*. If a value in *d* is larger than *d_mean* but smaller than *d_max*, assign 75 to the corresponding value in *f*. If a value equals to *d_mean*, assign 50 to the corresponding value in *f*. Assign 0 to the corresponding value(s) in *f* for *d_min* in *d*. Assign 100 to the corresponding value(s) in *f* for *d_max* in *d*. In the end, f should have only the following values: 0, 25, 50, 75, and 100.\n",
    "\n",
    "**Note**: you don't have to use Numpy in this question."
   ]
  },
  {
   "cell_type": "code",
   "execution_count": 39,
   "metadata": {},
   "outputs": [
    {
     "name": "stdout",
     "output_type": "stream",
     "text": [
      "[[[ 75.  25.  25.  75.  25.]\n",
      "  [ 25.  25.  25.  75.  75.]\n",
      "  [ 75.  25.  25.  25.  25.]]\n",
      "\n",
      " [[ 25.  25.  25.  75. 100.]\n",
      "  [ 25.  25.  75.  75.  25.]\n",
      "  [ 75.  75.  75.   0.  25.]]]\n"
     ]
    }
   ],
   "source": [
    "temp=f.reshape(f.size)\n",
    "for i in range(d.size):\n",
    "    if d_min<d.reshape(d.size)[i]<d_mean:\n",
    "        temp[i]=25\n",
    "    elif d.reshape(d.size)[i]==d_mean:\n",
    "        temp[i]=50\n",
    "    elif d_max>d.reshape(d.size)[i]>d_mean:\n",
    "        temp[i]=75\n",
    "    elif d.reshape(d.size)[i]==d_min:\n",
    "        temp[i]=0\n",
    "    elif d.reshape(d.size)[i]==d_max:\n",
    "        temp[i]=100\n",
    "f=temp.reshape(2,3,5)\n",
    "print(f)"
   ]
  },
  {
   "cell_type": "markdown",
   "metadata": {},
   "source": [
    "#### 17. Print *d* and *f*. Do you have your expected *f*?\n",
    "For instance, if your *d* is:\n",
    "```python\n",
    "[[[1.85836099, 1.67064465, 1.62576044, 1.40243961, 1.88454931],\n",
    "[1.75354326, 1.69403643, 1.36729252, 1.61415071, 1.12104981],\n",
    "[1.72201435, 1.1862918 , 1.87078449, 1.7726778 , 1.88180042]],\n",
    "[[1.44747908, 1.31673383, 1.02000951, 1.52218947, 1.97066381],\n",
    "[1.79129243, 1.74983003, 1.96028037, 1.85166831, 1.65450881],\n",
    "[1.18068344, 1.9587381 , 1.00656599, 1.93402165, 1.73514584]]]\n",
    "```\n",
    "Your *f* should be:\n",
    "```python\n",
    "[[[ 75.,  75.,  75.,  25.,  75.],\n",
    "[ 75.,  75.,  25.,  25.,  25.],\n",
    "[ 75.,  25.,  75.,  75.,  75.]],\n",
    "[[ 25.,  25.,  25.,  25., 100.],\n",
    "[ 75.,  75.,  75.,  75.,  75.],\n",
    "[ 25.,  75.,   0.,  75.,  75.]]]\n",
    "```"
   ]
  },
  {
   "cell_type": "code",
   "execution_count": 40,
   "metadata": {},
   "outputs": [
    {
     "name": "stdout",
     "output_type": "stream",
     "text": [
      "[[[ 2.49934573  0.02151118  0.63156015  0.99493744  0.84153278]\n",
      "  [ 0.85296248  0.08358166  0.69035434  1.9280703   1.17013815]\n",
      "  [ 1.38762259  0.38495253 -0.12509863  0.79096552  0.25844503]]\n",
      "\n",
      " [[ 0.70237194 -0.30918764  0.09682084  2.54608769  2.96522227]\n",
      "  [ 0.67057689  0.04695836  2.32388933  1.95040654  0.71119255]\n",
      "  [ 1.12429265  1.57617739  2.3846493  -0.88689167 -0.31135353]]]\n",
      "2.965222272809068\n",
      "-0.886891668653186\n",
      "0.9334031377449225\n",
      "[[[ 75.  25.  25.  75.  25.]\n",
      "  [ 25.  25.  25.  75.  75.]\n",
      "  [ 75.  25.  25.  25.  25.]]\n",
      "\n",
      " [[ 25.  25.  25.  75. 100.]\n",
      "  [ 25.  25.  75.  75.  25.]\n",
      "  [ 75.  75.  75.   0.  25.]]]\n"
     ]
    }
   ],
   "source": [
    "print(d)\n",
    "\n",
    "print(d_max)\n",
    "\n",
    "print(d_min)\n",
    "\n",
    "print(d_mean)\n",
    "print(f)"
   ]
  },
  {
   "cell_type": "markdown",
   "metadata": {},
   "source": [
    "#### 18. Bonus question: instead of using numbers (i.e. 0, 25, 50, 75, and 100), use string values  (\"A\", \"B\", \"C\", \"D\", and \"E\") to label the array elements. For the example above, the expected result is:\n",
    "\n",
    "```python\n",
    "[[[ 'D',  'D',  'D',  'B',  'D'],\n",
    "[ 'D',  'D',  'B',  'B',  'B'],\n",
    "[ 'D',  'B',  'D',  'D',  'D']],\n",
    "[[ 'B',  'B',  'B',  'B',  'E'],\n",
    "[ 'D',  'D',  'D',  'D',  'D'],\n",
    "[ 'B',  'D',   'A',  'D', 'D']]]\n",
    "```\n",
    "**Note**: you don't have to use Numpy in this question."
   ]
  },
  {
   "cell_type": "code",
   "execution_count": 49,
   "metadata": {},
   "outputs": [
    {
     "name": "stdout",
     "output_type": "stream",
     "text": [
      "[[['D' 'B' 'B' 'D' 'B']\n",
      "  ['B' 'B' 'B' 'D' 'D']\n",
      "  ['D' 'B' 'B' 'B' 'B']]\n",
      "\n",
      " [['B' 'B' 'B' 'D' 'E']\n",
      "  ['B' 'B' 'D' 'D' 'B']\n",
      "  ['D' 'D' 'D' 'A' 'B']]]\n"
     ]
    }
   ],
   "source": [
    "temp2=[]\n",
    "for i in range(d.size):\n",
    "    if d_min<d.reshape(d.size)[i]<d_mean:\n",
    "        temp2.append('B')\n",
    "    elif d.reshape(d.size)[i]==d_mean:\n",
    "        temp2.append('C')\n",
    "    elif d_max>d.reshape(d.size)[i]>d_mean:\n",
    "        temp2.append('D')\n",
    "    elif d.reshape(d.size)[i]==d_min:\n",
    "        temp2.append('A')\n",
    "    elif d.reshape(d.size)[i]==d_max:\n",
    "        temp2.append('E')\n",
    "bonus=np.array(temp2,dtype=object).reshape(2,3,5)\n",
    "print(bonus)"
   ]
  },
  {
   "cell_type": "code",
   "execution_count": null,
   "metadata": {},
   "outputs": [],
   "source": []
  }
 ],
 "metadata": {
  "kernelspec": {
   "display_name": "Python [conda env:ironhack_env]",
   "language": "python",
   "name": "conda-env-ironhack_env-py"
  },
  "language_info": {
   "codemirror_mode": {
    "name": "ipython",
    "version": 3
   },
   "file_extension": ".py",
   "mimetype": "text/x-python",
   "name": "python",
   "nbconvert_exporter": "python",
   "pygments_lexer": "ipython3",
   "version": "3.8.5"
  }
 },
 "nbformat": 4,
 "nbformat_minor": 4
}
